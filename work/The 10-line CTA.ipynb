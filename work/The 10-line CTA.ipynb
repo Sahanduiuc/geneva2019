{
 "cells": [
  {
   "cell_type": "markdown",
   "metadata": {},
   "source": [
    "## The 10-line CTA"
   ]
  },
  {
   "cell_type": "markdown",
   "metadata": {},
   "source": [
    "This strategy is based on the article https://www.linkedin.com/pulse/implement-cta-less-than-10-lines-code-thomas-schmelzer/"
   ]
  },
  {
   "cell_type": "code",
   "execution_count": 14,
   "metadata": {},
   "outputs": [],
   "source": [
    "import pandas as pd\n",
    "import numpy as np\n",
    "import beakerx as bx"
   ]
  },
  {
   "cell_type": "code",
   "execution_count": 2,
   "metadata": {},
   "outputs": [],
   "source": [
    "# load data\n",
    "fut = pd.read_csv(\"data/prices.csv\", index_col=0, parse_dates=True).ffill().truncate(before=pd.Timestamp(\"1990-01-01\"))"
   ]
  },
  {
   "cell_type": "code",
   "execution_count": 6,
   "metadata": {},
   "outputs": [],
   "source": [
    "# compute volatility adjusted returns and winsorize (e.g. clip) them. \n",
    "volatility = np.log(fut).diff().ewm(com=32).std()"
   ]
  },
  {
   "cell_type": "code",
   "execution_count": 7,
   "metadata": {},
   "outputs": [],
   "source": [
    "# move back into a \"price\"-space by accumulating filtered log returns\n",
    "prices = (np.log(fut).diff() / volatility).clip(-4.2, 4.2).cumsum()"
   ]
  },
  {
   "cell_type": "code",
   "execution_count": 8,
   "metadata": {},
   "outputs": [],
   "source": [
    "# simple oscillator function (apply some rescaling to enforce constant norm for N(0,1) returns)\n",
    "def osc(prices, fast=32, slow=96):\n",
    "    f,g = 1 - 1/fast, 1-1/slow\n",
    "    return (prices.ewm(span=2*fast-1).mean() - prices.ewm(span=2*slow-1).mean())/np.sqrt(1.0 / (1 - f * f) - 2.0 / (1 - f * g) + 1.0 / (1 - g * g))\n"
   ]
  },
  {
   "cell_type": "code",
   "execution_count": 9,
   "metadata": {},
   "outputs": [],
   "source": [
    "# compute the currency position and apply again some winsorizing to avoid extremely large positions, strictly speaking volatility of percent returns needed here...\n",
    "CurrencyPosition = (50000*np.tanh(osc(prices, fast=16, slow=48)) / volatility).clip(-5e7, 5e7)\n"
   ]
  },
  {
   "cell_type": "code",
   "execution_count": 10,
   "metadata": {},
   "outputs": [],
   "source": [
    "# the profit today is the return today times the position of yesterday\n",
    "Profit = (fut.pct_change() * CurrencyPosition.shift(periods=1)).sum(axis=1)"
   ]
  },
  {
   "cell_type": "code",
   "execution_count": 16,
   "metadata": {},
   "outputs": [
    {
     "data": {},
     "metadata": {},
     "output_type": "display_data"
    }
   ],
   "source": [
    "# simulate the compounding over time\n",
    "nav = (1 + Profit / 7e7).cumprod().to_frame(\"nav\") #.plot(logy=True, grid=True)\n",
    "bx.SimpleTimePlot(nav, ['nav'], logY=True)"
   ]
  },
  {
   "cell_type": "code",
   "execution_count": null,
   "metadata": {},
   "outputs": [],
   "source": []
  }
 ],
 "metadata": {
  "kernelspec": {
   "display_name": "Python 3",
   "language": "python",
   "name": "python3"
  },
  "language_info": {
   "codemirror_mode": {
    "name": "ipython",
    "version": 3
   },
   "file_extension": ".py",
   "mimetype": "text/x-python",
   "name": "python",
   "nbconvert_exporter": "python",
   "pygments_lexer": "ipython3",
   "version": "3.7.2"
  },
  "toc": {
   "base_numbering": 1.0,
   "nav_menu": {},
   "number_sections": false,
   "sideBar": false,
   "skip_h1_title": false,
   "title_cell": "Table of Contents",
   "title_sidebar": "Contents",
   "toc_cell": false,
   "toc_position": {},
   "toc_section_display": false,
   "toc_window_display": false
  }
 },
 "nbformat": 4,
 "nbformat_minor": 2
}
