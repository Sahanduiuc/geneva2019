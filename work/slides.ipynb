{
 "cells": [
  {
   "cell_type": "markdown",
   "metadata": {
    "slideshow": {
     "slide_type": "slide"
    }
   },
   "source": [
    "# Work smarter not harder\n",
    "Survive as a lazy and stingy data scientist (in finance)\n",
    "\n",
    "by Thomas Schmelzer"
   ]
  },
  {
   "cell_type": "markdown",
   "metadata": {
    "slideshow": {
     "slide_type": "slide"
    }
   },
   "source": [
    "This talk is on Github\n",
    "https://github.com/tschm/geneva2019\n",
    "\n",
    "I publish on this topic via my LinkedIn profile\n",
    "https://www.linkedin.com/in/thomas-schmelzer-ch/\n",
    "\n",
    "Follow me..."
   ]
  },
  {
   "cell_type": "markdown",
   "metadata": {
    "slideshow": {
     "slide_type": "slide"
    }
   },
   "source": [
    "I assume/hope a few of you are not interested in finance. But my talk is hopefully useful for everybody working with data and people.\n"
   ]
  },
  {
   "cell_type": "markdown",
   "metadata": {
    "slideshow": {
     "slide_type": "slide"
    }
   },
   "source": [
    "# Content\n",
    "* Technology (How to be visible? How shall I share my work?)\n",
    "* Jobs and Career"
   ]
  },
  {
   "cell_type": "markdown",
   "metadata": {
    "slideshow": {
     "slide_type": "slide"
    }
   },
   "source": [
    "# A little (personal) history\n",
    "* I got my PhD (Mathematics, Oxford University) in 2007. \n",
    "* I was 12 years younger than I am today (in fact, we all were)\n",
    "* The first iPhone was released.\n",
    "* George W. Bush was still president.\n",
    "* I had issues with a work permit for a University in Canada.\n",
    "* Moved into industry over the weekend. Started at Winton Capital."
   ]
  },
  {
   "cell_type": "markdown",
   "metadata": {
    "slideshow": {
     "slide_type": "slide"
    }
   },
   "source": [
    "# Historical data science *anno* 2007\n",
    "* There was no Github yet.\n",
    "* Docker did not exist.\n",
    "* Python did exist, Pandas did not exist.\n",
    "* Sharing code was either insane or clumsy."
   ]
  },
  {
   "cell_type": "markdown",
   "metadata": {
    "slideshow": {
     "slide_type": "slide"
    }
   },
   "source": [
    "How do you share your work/code today?\n",
    "\n",
    "Who do you share with?\n",
    "\n",
    "Do you think you should adjust for your audience?\n",
    "\n",
    "What problems did you run into?\n"
   ]
  },
  {
   "cell_type": "markdown",
   "metadata": {
    "slideshow": {
     "slide_type": "slide"
    }
   },
   "source": [
    "# Learn Github\n",
    "* git clone, commit, push, tag\n",
    "* .gitignore (do not commit *.pyc files)\n",
    "* .gitattributes, nbstripout\n",
    "* README.md"
   ]
  },
  {
   "cell_type": "markdown",
   "metadata": {
    "slideshow": {
     "slide_type": "slide"
    }
   },
   "source": [
    "# Why Github\n",
    "* Github **is** a tool to share work with your fellow data scientists.\n",
    "* Github **might be** a good tool to share work with your supervisor.\n",
    "* Github **should be** the basis for a chain of tools you are using.\n",
    "\n",
    "but\n",
    "\n",
    "* Github **is not** a good tool to share your work with the world."
   ]
  },
  {
   "cell_type": "markdown",
   "metadata": {
    "slideshow": {
     "slide_type": "slide"
    }
   },
   "source": [
    "# Docker\n",
    "* Github **is not** addressing dependency hell. \n",
    "* Your Python/R program expect a certain environment (e.g. installed packages, Python version, etc).\n",
    "* Develop your code within a container and share the container (via Dockerhub).\n",
    "\n",
    "https://www.linkedin.com/pulse/why-we-embrace-docker-thomas-schmelzer/"
   ]
  },
  {
   "cell_type": "markdown",
   "metadata": {
    "slideshow": {
     "slide_type": "slide"
    }
   },
   "source": [
    "# Learn Docker\n",
    "\n",
    "Describe the environment in a Dockerfile\n",
    "\n",
    "* Use an established Docker image from the Jupyter Stack (also available for R)\n",
    "* Install all your favourite packages (specify the version)\n",
    "* Copy your work into the image\n"
   ]
  },
  {
   "cell_type": "raw",
   "metadata": {},
   "source": [
    "# Use the Jupyter stack\n",
    "FROM jupyter/minimal-notebook:45b8529a6bfc\n",
    "\n",
    "RUN conda install -y -c conda-forge rise pandas beakerx=1.4.1\n",
    "\n",
    "# copy your work into the image\n",
    "COPY ./work /home/${NB_USER}/work"
   ]
  },
  {
   "cell_type": "markdown",
   "metadata": {
    "slideshow": {
     "slide_type": "slide"
    }
   },
   "source": [
    "# Option Dockerhub\n",
    "\n",
    "* Upload your docker image to dockerhub. \n",
    "* Download your docker image to your own server.\n",
    "\n",
    "Why don't we like this approach?\n",
    "\n",
    "\n",
    "\n"
   ]
  },
  {
   "cell_type": "markdown",
   "metadata": {
    "slideshow": {
     "slide_type": "slide"
    }
   },
   "source": [
    "# Option Binder\n",
    "\n",
    "* Use https://mybinder.org/\n",
    "* Turn a Git repo into a collection of interactive notebooks!\n",
    "* Binder is creating Docker images on request and serves them. \n",
    "* Let's have a closer look at https://github.com/tschm/geneva2019"
   ]
  },
  {
   "cell_type": "markdown",
   "metadata": {
    "slideshow": {
     "slide_type": "slide"
    }
   },
   "source": [
    "# Random Hints\n",
    "* Install beakerX and Rise in your image. Create interactive Presentations on the fly (Like this one)\n",
    "* Use docker-compose locally (see my Github repository)\n",
    "* Include the link to your binder in your README.md"
   ]
  },
  {
   "cell_type": "markdown",
   "metadata": {
    "slideshow": {
     "slide_type": "slide"
    }
   },
   "source": [
    "# What about R\n",
    "* Shiny is a neat tool to share your results, e.g. https://liechtenstein.shinyapps.io/appBMI/\n",
    "* I would recommend to go down the conda/jupyter route to R. \n",
    "\n",
    "    "
   ]
  },
  {
   "cell_type": "markdown",
   "metadata": {
    "slideshow": {
     "slide_type": "slide"
    }
   },
   "source": [
    "# Jobs and career \n",
    "\n",
    "For the lazy and stingy data scientist\n",
    "\n"
   ]
  },
  {
   "cell_type": "markdown",
   "metadata": {
    "slideshow": {
     "slide_type": "slide"
    }
   },
   "source": [
    "Get excited about the problems you have worked on (or at least try to pretend you are :-))"
   ]
  },
  {
   "cell_type": "markdown",
   "metadata": {
    "slideshow": {
     "slide_type": "slide"
    }
   },
   "source": [
    "* Include a link to your Github profile in your CV.\n",
    "* Maintain a profile on LinkedIn.\n",
    "* Adopt a fav. problem. \n",
    "* Do internships."
   ]
  },
  {
   "cell_type": "markdown",
   "metadata": {
    "slideshow": {
     "slide_type": "slide"
    }
   },
   "source": [
    "# Why internships?\n",
    "\n",
    "* Learn the social norms.\n",
    "* Learn to bite your tongue.\n",
    "* Enjoy watching others fail.\n",
    "* Resist the urge to interfere.\n",
    "\n",
    "Companies learn through repeatedly failing.\n"
   ]
  },
  {
   "cell_type": "markdown",
   "metadata": {
    "slideshow": {
     "slide_type": "slide"
    }
   },
   "source": [
    "# Literature\n",
    "* John Niven, **Kill your Friends**\n",
    "* Tim Smith, **aRrgh: a newcomer’s (angry) guide to R**\n",
    "* Thomas Schmelzer, **Programming in Finance (with R)**, https://github.com/tschm/ProgrammingFinance"
   ]
  },
  {
   "cell_type": "markdown",
   "metadata": {
    "slideshow": {
     "slide_type": "slide"
    }
   },
   "source": [
    "# Summary Technology\n",
    "* Embrace and love your data problems.\n",
    "* Learn working with Github, Docker, conda and Binder. Simplify your life!\n",
    "* Share your work with the world and gain visibility!"
   ]
  },
  {
   "cell_type": "markdown",
   "metadata": {
    "slideshow": {
     "slide_type": "slide"
    }
   },
   "source": [
    "# Summary Jobs\n",
    "* Internships and jobs will be an unavoidable consequence of your expertise and your approach to data. \n",
    "* Interviews will be a fun experience.\n",
    "* Internships are important to learn how (not) to function within a company.\n",
    "* Use twitter to follow trends in technology and data science."
   ]
  },
  {
   "cell_type": "markdown",
   "metadata": {
    "slideshow": {
     "slide_type": "slide"
    }
   },
   "source": [
    "# Thank you\n",
    "\n",
    "Follow me on LinkedIn (thomas.schmelzer) and an Github (tschm)."
   ]
  }
 ],
 "metadata": {
  "celltoolbar": "Slideshow",
  "kernelspec": {
   "display_name": "Python 3",
   "language": "python",
   "name": "python3"
  },
  "language_info": {
   "codemirror_mode": {
    "name": "ipython",
    "version": 3
   },
   "file_extension": ".py",
   "mimetype": "text/x-python",
   "name": "python",
   "nbconvert_exporter": "python",
   "pygments_lexer": "ipython3",
   "version": "3.7.3"
  },
  "toc": {
   "base_numbering": 1,
   "nav_menu": {},
   "number_sections": false,
   "sideBar": false,
   "skip_h1_title": false,
   "title_cell": "Table of Contents",
   "title_sidebar": "Contents",
   "toc_cell": false,
   "toc_position": {},
   "toc_section_display": false,
   "toc_window_display": false
  }
 },
 "nbformat": 4,
 "nbformat_minor": 1
}
