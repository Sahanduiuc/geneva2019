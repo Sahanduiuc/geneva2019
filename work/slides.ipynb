{
 "cells": [
  {
   "cell_type": "markdown",
   "metadata": {
    "slideshow": {
     "slide_type": "slide"
    }
   },
   "source": [
    "# Work smarter not harder\n",
    "Survive as a lazy and stingy data scientist (in finance)\n",
    "\n",
    "by Thomas Schmelzer"
   ]
  },
  {
   "cell_type": "markdown",
   "metadata": {
    "slideshow": {
     "slide_type": "slide"
    }
   },
   "source": [
    "This talk is on Github\n",
    "https://github.com/tschm/geneva2019\n",
    "\n",
    "Follow me there..."
   ]
  },
  {
   "cell_type": "markdown",
   "metadata": {
    "slideshow": {
     "slide_type": "slide"
    }
   },
   "source": [
    "I assume/hope a few of you are not interested in finance. But my talk is hopefully useful for everybody working with data and people.\n"
   ]
  },
  {
   "cell_type": "markdown",
   "metadata": {
    "slideshow": {
     "slide_type": "slide"
    }
   },
   "source": [
    "# A little (personal) history\n",
    "* I got my PhD (Mathematics, Oxford University) in 2007. \n",
    "* I was 12 years younger than I am today (in fact, we all were)\n",
    "* The first iPhone was released\n",
    "* George W. Bush was still president\n",
    "* I had issues with a work permit for a University in Canada.\n",
    "* Moved into industry over the weekend. Started at Winton Capital"
   ]
  },
  {
   "cell_type": "markdown",
   "metadata": {
    "slideshow": {
     "slide_type": "slide"
    }
   },
   "source": [
    "# Historical data science anno 2007\n",
    "* There was no Github yet.\n",
    "* Docker did not exist.\n",
    "* Python did exist, Pandas did not exist\n",
    "* Sharing code was either insane or clumsy"
   ]
  },
  {
   "cell_type": "code",
   "execution_count": null,
   "metadata": {
    "slideshow": {
     "slide_type": "slide"
    }
   },
   "outputs": [],
   "source": [
    "How do you share your work/code today?\n",
    "Who do you share with?"
   ]
  },
  {
   "cell_type": "markdown",
   "metadata": {
    "slideshow": {
     "slide_type": "slide"
    }
   },
   "source": [
    "# Learn Github\n",
    "* git clone, commit, push, tag\n",
    "* .gitignore (do not commit *.pyc files)\n",
    "* .gitattributes, nbstripout\n",
    "* README.md"
   ]
  },
  {
   "cell_type": "markdown",
   "metadata": {
    "slideshow": {
     "slide_type": "slide"
    }
   },
   "source": [
    "# Why Github\n",
    "* Github **is** a create tool to share work with your fellow data scientists.\n",
    "* Github **might be** a good tool to share work with your supervisor.\n",
    "* Github **should be** the basis for a chain of tools you are using.\n",
    "\n",
    "but\n",
    "\n",
    "* Github **is not** a good tool to share your work with the world."
   ]
  },
  {
   "cell_type": "code",
   "execution_count": null,
   "metadata": {},
   "outputs": [],
   "source": [
    "# Learn (mini)conda\n",
    "\n",
    "* conda install, clean\n",
    "\n",
    "Use conda to install Python packages. Try to avoid pip. \n",
    "Using conda simplifies life with Python a great deal. Conda is now also embracing R."
   ]
  },
  {
   "cell_type": "markdown",
   "metadata": {
    "slideshow": {
     "slide_type": "slide"
    }
   },
   "source": [
    "# Docker\n",
    "* Github is not even trying to access dependency hell. \n",
    "* Your Python/R program expect a certain environment (e.g. installed packages, Python version, etc).\n",
    "* Develop your code within a container and share the container (via Dockerhub)\n",
    "\n",
    "https://www.linkedin.com/pulse/why-we-embrace-docker-thomas-schmelzer/"
   ]
  },
  {
   "cell_type": "markdown",
   "metadata": {
    "slideshow": {
     "slide_type": "slide"
    }
   },
   "source": [
    "# Learn Docker\n",
    "\n",
    "Describe the environment in a Dockerfile\n",
    "\n",
    "* Use an established Docker image from the Jupyter Stack\n",
    "* Install all your favourite packages (specify the version)\n",
    "* Copy your work into the image\n"
   ]
  },
  {
   "cell_type": "code",
   "execution_count": null,
   "metadata": {
    "slideshow": {
     "slide_type": "slide"
    }
   },
   "outputs": [],
   "source": [
    "# Use the Jupyter stack\n",
    "FROM jupyter/minimal-notebook:45b8529a6bfc\n",
    "\n",
    "RUN conda config --env --add pinned_packages 'openjdk>8.0.121'\n",
    "RUN conda install -y -c conda-forge rise pandas=0.24.1 cvxpy=1.0.14 beakerx=1.3.0 ipywidgets=7.4.2 && conda clean -y --all\n",
    "\n",
    "# copy your work into the image\n",
    "COPY ./work /home/${NB_USER}/work"
   ]
  },
  {
   "cell_type": "markdown",
   "metadata": {
    "slideshow": {
     "slide_type": "slide"
    }
   },
   "source": [
    "# Sharing in style?\n",
    "* Print code (fragments) and distribute copy\n",
    "* Attach code to an eMail\n",
    "* Share github repository (cooperation made easy, Dependency hell, user needs to know Git basics...)\n",
    "* Release a docker image (via Dockerhub, user needs to know Docker basics...)\n"
   ]
  },
  {
   "cell_type": "code",
   "execution_count": null,
   "metadata": {},
   "outputs": [],
   "source": [
    "* Think about the background and skills of your user.\n",
    "* Assume your user is lazy and/or an idiot. \n",
    "* Don't share a github repository with me. \n",
    "* Avoid dependency hell"
   ]
  },
  {
   "cell_type": "code",
   "execution_count": null,
   "metadata": {
    "slideshow": {
     "slide_type": "slide"
    }
   },
   "outputs": [],
   "source": [
    "Do you use Github?\n",
    "Do you use Docker?\n",
    "Have you heard of Binder?"
   ]
  }
 ],
 "metadata": {
  "celltoolbar": "Slideshow",
  "kernelspec": {
   "display_name": "Python 3",
   "language": "python",
   "name": "python3"
  },
  "language_info": {
   "codemirror_mode": {
    "name": "ipython",
    "version": 3
   },
   "file_extension": ".py",
   "mimetype": "text/x-python",
   "name": "python",
   "nbconvert_exporter": "python",
   "pygments_lexer": "ipython3",
   "version": "3.7.2"
  },
  "toc": {
   "base_numbering": 1,
   "nav_menu": {},
   "number_sections": false,
   "sideBar": false,
   "skip_h1_title": false,
   "title_cell": "Table of Contents",
   "title_sidebar": "Contents",
   "toc_cell": false,
   "toc_position": {},
   "toc_section_display": false,
   "toc_window_display": false
  }
 },
 "nbformat": 4,
 "nbformat_minor": 1
}
